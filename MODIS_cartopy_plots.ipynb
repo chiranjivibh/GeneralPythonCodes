{
 "cells": [
  {
   "cell_type": "code",
   "execution_count": 1,
   "id": "bc46e5b7",
   "metadata": {
    "pycharm": {
     "name": "#%%\n"
    }
   },
   "outputs": [],
   "source": [
    "import os\n",
    "import numpy as np\n",
    "import glob\n",
    "from pyhdf.SD import SD, SDC\n",
    "import cartopy.crs as crs\n",
    "import cartopy.feature as cfeature\n",
    "import matplotlib.pyplot as plt\n",
    "import matplotlib.colors as mcolors"
   ]
  },
  {
   "cell_type": "code",
   "execution_count": 2,
   "id": "a73852f5",
   "metadata": {
    "pycharm": {
     "name": "#%%\n"
    }
   },
   "outputs": [],
   "source": [
    "USE_NETCDF4 = False\n",
    "Data_field = 'Deep_Blue_Aerosol_Optical_Depth_550_Land'"
   ]
  },
  {
   "cell_type": "code",
   "execution_count": 3,
   "id": "3cb6eeac",
   "metadata": {
    "pycharm": {
     "name": "#%%\n"
    }
   },
   "outputs": [],
   "source": [
    "dirlist = glob.glob('AOD_Nepal_china/*hdf')"
   ]
  },
  {
   "cell_type": "code",
   "execution_count": 4,
   "id": "90068331",
   "metadata": {
    "pycharm": {
     "name": "#%%\n"
    }
   },
   "outputs": [
    {
     "name": "stdout",
     "output_type": "stream",
     "text": [
      "AOD_Nepal_china\\MOD04_L2.A2022163.0125.061.2022163134820.hdf\n",
      "AOD_Nepal_china\\MOD04_L2.A2022163.0130.061.2022163134822.hdf\n",
      "AOD_Nepal_china\\MOD04_L2.A2022163.0135.061.2022163134741.hdf\n",
      "AOD_Nepal_china\\MOD04_L2.A2022163.0305.061.2022163134847.hdf\n",
      "AOD_Nepal_china\\MOD04_L2.A2022163.0310.061.2022163134827.hdf\n",
      "AOD_Nepal_china\\MOD04_L2.A2022163.0315.061.2022163134714.hdf\n",
      "AOD_Nepal_china\\MOD04_L2.A2022163.0320.061.2022163134755.hdf\n",
      "AOD_Nepal_china\\MOD04_L2.A2022163.0445.061.2022163134904.hdf\n",
      "AOD_Nepal_china\\MOD04_L2.A2022163.0450.061.2022163134827.hdf\n",
      "AOD_Nepal_china\\MOD04_L2.A2022163.0455.061.2022163134758.hdf\n",
      "AOD_Nepal_china\\MOD04_L2.A2022163.0500.061.2022163134646.hdf\n",
      "AOD_Nepal_china\\MOD04_L2.A2022163.0625.061.2022163195540.hdf\n",
      "AOD_Nepal_china\\MOD04_L2.A2022163.0630.061.2022163195819.hdf\n",
      "AOD_Nepal_china\\MOD04_L2.A2022163.0635.061.2022163195541.hdf\n",
      "AOD_Nepal_china\\MOD04_L2.A2022163.0800.061.2022163195617.hdf\n",
      "AOD_Nepal_china\\MOD04_L2.A2022163.1240.061.2022164015906.hdf\n",
      "AOD_Nepal_china\\MOD04_L2.A2022163.1420.061.2022164015849.hdf\n",
      "AOD_Nepal_china\\MOD04_L2.A2022163.1600.061.2022164015856.hdf\n"
     ]
    }
   ],
   "source": [
    "n = 0\n",
    "for i in dirlist:\n",
    "    print(i)\n",
    "    f = SD(i,SDC.READ)\n",
    "    lat = f.select('Latitude')\n",
    "    lon = f.select(\"Longitude\")\n",
    "    data2D = f.select(Data_field)\n",
    "    latitude = lat[:,:]\n",
    "    lognitude = lon[:,:]\n",
    "    data = data2D[:,:].astype(np.double)\n",
    "    data [data<-9000.0] = 0.0\n",
    "#     latitude[latitude<-900]  = 90 #np.nanmean(latitude[latitude<-900])\n",
    "#     lognitude[lognitude <-900]  = 21 #np.nanmean(lognitude[lognitude<-90])\n",
    "    if n ==0:\n",
    "        lognitude1 = lognitude\n",
    "        lattitude1 = latitude\n",
    "        data1 = data \n",
    "    else:\n",
    "        lognitude1 = np.vstack((lognitude1,lognitude))\n",
    "        lattitude1 = np.vstack((lattitude1,latitude))\n",
    "        data1 = np.vstack((data1,data))\n",
    "        \n",
    "    n+=1"
   ]
  },
  {
   "cell_type": "code",
   "execution_count": 5,
   "id": "6375ea19",
   "metadata": {
    "pycharm": {
     "name": "#%%\n"
    }
   },
   "outputs": [],
   "source": [
    "lon0 = np.nanmin(lognitude1[lognitude1!=-999.0])\n",
    "lon1 = np.nanmax(lognitude1[lognitude1!=-999.0])\n",
    "lat0 = np.nanmin(lattitude1[lattitude1!=-999.0])\n",
    "lat1 = np.nanmax(lattitude1[lattitude1!=-999.0])"
   ]
  },
  {
   "cell_type": "code",
   "execution_count": null,
   "outputs": [],
   "source": [
    "figure = plt.figure(figsize=(8,6))\n",
    "ax = figure.add_subplot(1,1,1, projection=crs.Mercator())\n",
    "ax.add_feature(cfeature.COASTLINE)\n",
    "ax.add_feature(cfeature.BORDERS)\n",
    "#ax.add_feature(cfeature.STATES)\n",
    "# Zoom in on the US by setting longitude/latitude parameters\n",
    "# ax.set_extent(\n",
    "#     [80, # minimum latitude\n",
    "#         89, # min longitude\n",
    "#         26.3, # max latitude\n",
    "#         31.5 # max longitude\n",
    "#     ],\n",
    "#     crs=crs.PlateCarree()\n",
    "# )\n",
    "# cs = ax.contourf(lattitude1,lognitude1,data1)\n",
    "ax.set_extent([80,90,26,31])\n",
    "x,y = 3500,60\n",
    "lognitude1[x,y],lattitude1[x,y]\n",
    "ax.plot(lognitude1[x,y],lattitude1[x,y], marker='x', transform=crs.PlateCarree())\n",
    "cs = ax.contourf(lognitude1,lattitude1,data1,alpha=0.25,transform=crs.PlateCarree())\n",
    "plt.show()"
   ],
   "metadata": {
    "collapsed": false,
    "pycharm": {
     "name": "#%%\n"
    }
   }
  },
  {
   "cell_type": "code",
   "execution_count": null,
   "outputs": [],
   "source": [
    "figure = plt.figure(figsize=(8,6))\n",
    "ax = figure.add_subplot(1,1,1, projection=crs.Mercator())\n",
    "ax.add_feature(cfeature.COASTLINE)\n",
    "ax.add_feature(cfeature.BORDERS)\n",
    "#ax.contourf(lognitude1,lattitude1,data1)\n",
    "# ax.set_ylim([60,90])\n",
    "# ax.set_xlim([20,31])\n",
    "#ax.set_extent([60,90,20,31])\n",
    "cs = ax.contourf(lognitude1,lattitude1,data1,alpha=0.25,transform=crs.PlateCarree()) ## transform is very important  \n",
    "plt.show()"
   ],
   "metadata": {
    "collapsed": false,
    "pycharm": {
     "name": "#%%\n"
    }
   }
  },
  {
   "cell_type": "code",
   "execution_count": null,
   "outputs": [],
   "source": [
    "fig = plt.figure(figsize=(10, 10))\n",
    "ax = fig.add_subplot(1, 1, 1, projection=crs.Mercator())\n",
    "ax.contourf(lognitude1,lattitude1,data1,\n",
    "            transform=crs.PlateCarree(),\n",
    "            cmap='nipy_spectral')\n",
    "ax.set_extent([80,90,26,31])\n",
    "ax.coastlines()\n",
    "ax.set_global()\n",
    "plt.show()\n"
   ],
   "metadata": {
    "collapsed": false,
    "pycharm": {
     "name": "#%%\n"
    }
   }
  },
  {
   "cell_type": "code",
   "execution_count": null,
   "outputs": [],
   "source": [
    "np.shape(lognitude1),np.shape(lattitude1)\n",
    "\n",
    "\n",
    "#x[~np.isnan(x)]\n",
    "data1[lognitude1==77.250671]\n",
    "#lognitude1\n",
    "data1\n",
    "long_s = np.sort(lognitude1[lognitude1>87.55767])[0]\n",
    "\n",
    "lattitude1[lognitude1==long_s]\n",
    "\n",
    "lognitude1\n",
    "x,y = 500,67\n",
    "lognitude1[x,y],lattitude1[x,y]"
   ],
   "metadata": {
    "collapsed": false,
    "pycharm": {
     "name": "#%%\n"
    }
   }
  },
  {
   "cell_type": "code",
   "execution_count": 12,
   "id": "a09507f4",
   "metadata": {
    "pycharm": {
     "name": "#%%\n"
    }
   },
   "outputs": [
    {
     "data": {
      "text/plain": "<cartopy.feature.NaturalEarthFeature at 0x1c90d1fb760>"
     },
     "execution_count": 12,
     "metadata": {},
     "output_type": "execute_result"
    }
   ],
   "source": [
    "cfeature.BORDERS"
   ]
  },
  {
   "cell_type": "code",
   "execution_count": 12,
   "id": "3d41f8da",
   "metadata": {
    "pycharm": {
     "name": "#%%\n"
    }
   },
   "outputs": [],
   "source": [
    "\n"
   ]
  },
  {
   "cell_type": "code",
   "execution_count": 13,
   "id": "a4516541",
   "metadata": {
    "pycharm": {
     "name": "#%%\n"
    }
   },
   "outputs": [
    {
     "data": {
      "text/plain": "(3654, 135)"
     },
     "execution_count": 13,
     "metadata": {},
     "output_type": "execute_result"
    }
   ],
   "source": [
    "np.shape(lognitude1)"
   ]
  },
  {
   "cell_type": "code",
   "execution_count": 14,
   "id": "87f3408a",
   "metadata": {
    "pycharm": {
     "name": "#%%\n"
    }
   },
   "outputs": [
    {
     "data": {
      "text/plain": "(3654, 135)"
     },
     "execution_count": 14,
     "metadata": {},
     "output_type": "execute_result"
    }
   ],
   "source": [
    "np.shape(lattitude1)"
   ]
  },
  {
   "cell_type": "code",
   "execution_count": 15,
   "id": "3ecd8419",
   "metadata": {
    "pycharm": {
     "name": "#%%\n"
    }
   },
   "outputs": [
    {
     "data": {
      "text/plain": "(3654, 135)"
     },
     "execution_count": 15,
     "metadata": {},
     "output_type": "execute_result"
    }
   ],
   "source": [
    "np.shape(data1)"
   ]
  },
  {
   "cell_type": "code",
   "execution_count": 16,
   "id": "8232745c",
   "metadata": {
    "pycharm": {
     "name": "#%%\n"
    }
   },
   "outputs": [
    {
     "data": {
      "text/plain": "masked_array(\n  data=[[70.97869 , 71.012276, 71.03559 , ..., 64.10521 , 63.85838 ,\n         63.591377],\n        [70.891464, 70.92471 , 70.94777 , ..., 64.03877 , 63.792686,\n         63.526257],\n        [70.80371 , 70.83678 , 70.85965 , ..., 63.974014, 63.728455,\n         63.46298 ],\n        ...,\n        [72.918526, 72.95971 , 72.98938 , ..., 65.570755, 65.308945,\n         65.025505],\n        [73.00629 , 73.04771 , 73.07762 , ..., 65.63192 , 65.36974 ,\n         65.08526 ],\n        [73.09321 , 73.13499 , 73.16516 , ..., 65.693954, 65.431114,\n         65.14609 ]],\n  mask=False,\n  fill_value=-999.0,\n  dtype=float32)"
     },
     "execution_count": 16,
     "metadata": {},
     "output_type": "execute_result"
    }
   ],
   "source": [
    "np.ma.masked_equal(lattitude1, -999.0)"
   ]
  },
  {
   "cell_type": "code",
   "execution_count": 17,
   "id": "b42a5079",
   "metadata": {
    "pycharm": {
     "name": "#%%\n"
    }
   },
   "outputs": [],
   "source": [
    "#data1[np.ma.masked_less_equal(lattitude1,-900)]"
   ]
  },
  {
   "cell_type": "code",
   "execution_count": 18,
   "id": "dfeec2c2",
   "metadata": {
    "pycharm": {
     "name": "#%%\n"
    }
   },
   "outputs": [
    {
     "data": {
      "text/plain": "masked_array(\n  data=[[70.97869 , 71.012276, 71.03559 , ..., 64.10521 , 63.85838 ,\n         63.591377],\n        [70.891464, 70.92471 , 70.94777 , ..., 64.03877 , 63.792686,\n         63.526257],\n        [70.80371 , 70.83678 , 70.85965 , ..., 63.974014, 63.728455,\n         63.46298 ],\n        ...,\n        [72.918526, 72.95971 , 72.98938 , ..., 65.570755, 65.308945,\n         65.025505],\n        [73.00629 , 73.04771 , 73.07762 , ..., 65.63192 , 65.36974 ,\n         65.08526 ],\n        [73.09321 , 73.13499 , 73.16516 , ..., 65.693954, 65.431114,\n         65.14609 ]],\n  mask=False,\n  fill_value=1e+20,\n  dtype=float32)"
     },
     "execution_count": 18,
     "metadata": {},
     "output_type": "execute_result"
    }
   ],
   "source": [
    "np.ma.masked_less_equal(lattitude1,-900)"
   ]
  },
  {
   "cell_type": "code",
   "execution_count": 18,
   "id": "1d9a0948",
   "metadata": {
    "pycharm": {
     "name": "#%%\n"
    }
   },
   "outputs": [],
   "source": []
  },
  {
   "cell_type": "code",
   "execution_count": 18,
   "id": "9fb95596",
   "metadata": {
    "pycharm": {
     "name": "#%%\n"
    }
   },
   "outputs": [],
   "source": []
  }
 ],
 "metadata": {
  "kernelspec": {
   "display_name": "Python 3 (ipykernel)",
   "language": "python",
   "name": "python3"
  },
  "language_info": {
   "codemirror_mode": {
    "name": "ipython",
    "version": 3
   },
   "file_extension": ".py",
   "mimetype": "text/x-python",
   "name": "python",
   "nbconvert_exporter": "python",
   "pygments_lexer": "ipython3",
   "version": "3.9.12"
  }
 },
 "nbformat": 4,
 "nbformat_minor": 5
}