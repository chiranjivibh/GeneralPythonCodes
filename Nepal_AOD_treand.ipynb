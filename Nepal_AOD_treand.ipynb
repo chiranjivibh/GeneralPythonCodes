{
 "cells": [
  {
   "cell_type": "code",
   "execution_count": 1,
   "metadata": {
    "collapsed": true,
    "pycharm": {
     "name": "#%%\n"
    }
   },
   "outputs": [],
   "source": [
    "import gdal\n",
    "import matplotlib.pyplot as plt\n",
    "import pandas as pd\n",
    "import numpy as np"
   ]
  },
  {
   "cell_type": "code",
   "execution_count": 2,
   "outputs": [
    {
     "name": "stdout",
     "output_type": "stream",
     "text": [
      "<osgeo.gdal.Dataset; proxy of <Swig Object of type 'GDALDatasetShadow *' at 0x0000022458A00E70> >\n",
      "[203x135] Scan_Start_Time mod04 (64-bit floating-point)\n",
      "[203x135] Solar_Zenith mod04 (16-bit integer)\n",
      "[203x135] Solar_Azimuth mod04 (16-bit integer)\n",
      "[203x135] Sensor_Zenith mod04 (16-bit integer)\n",
      "[203x135] Sensor_Azimuth mod04 (16-bit integer)\n",
      "[203x135] Scattering_Angle mod04 (16-bit integer)\n",
      "[203x135] Land_sea_Flag mod04 (16-bit integer)\n",
      "[4060x2708] Aerosol_Cldmask_Land_Ocean mod04 (16-bit integer)\n",
      "[4060x2708] Cloud_Pixel_Distance_Land_Ocean mod04 (16-bit integer)\n",
      "[203x135] Land_Ocean_Quality_Flag mod04 (16-bit integer)\n",
      "[203x135] Optical_Depth_Land_And_Ocean mod04 (16-bit integer)\n",
      "[203x135] Image_Optical_Depth_Land_And_Ocean mod04 (16-bit integer)\n",
      "[203x135] Average_Cloud_Pixel_Distance_Land_Ocean mod04 (16-bit integer)\n",
      "[203x135] Aerosol_Type_Land mod04 (16-bit integer)\n",
      "[203x135] Fitting_Error_Land mod04 (16-bit integer)\n",
      "[3x203x135] Surface_Reflectance_Land mod04 (16-bit integer)\n",
      "[3x203x135] Corrected_Optical_Depth_Land mod04 (16-bit integer)\n",
      "[203x135] Corrected_Optical_Depth_Land_wav2p1 mod04 (16-bit integer)\n",
      "[203x135] Optical_Depth_Ratio_Small_Land mod04 (16-bit integer)\n",
      "[10x203x135] Number_Pixels_Used_Land mod04 (16-bit integer)\n",
      "[10x203x135] Mean_Reflectance_Land mod04 (16-bit integer)\n",
      "[10x203x135] STD_Reflectance_Land mod04 (16-bit integer)\n",
      "[203x135] Mass_Concentration_Land mod04 (32-bit floating-point)\n",
      "[203x135] Aerosol_Cloud_Fraction_Land mod04 (16-bit integer)\n",
      "[203x135x6] Quality_Assurance_Land mod04 (8-bit integer)\n",
      "[2x203x135] Solution_Index_Ocean_Small mod04 (16-bit integer)\n",
      "[2x203x135] Solution_Index_Ocean_Large mod04 (16-bit integer)\n",
      "[7x203x135] Effective_Optical_Depth_Best_Ocean mod04 (16-bit integer)\n",
      "[7x203x135] Effective_Optical_Depth_Average_Ocean mod04 (16-bit integer)\n",
      "[7x203x135] Optical_Depth_Small_Best_Ocean mod04 (16-bit integer)\n",
      "[7x203x135] Optical_Depth_Small_Average_Ocean mod04 (16-bit integer)\n",
      "[7x203x135] Optical_Depth_Large_Best_Ocean mod04 (16-bit integer)\n",
      "[7x203x135] Optical_Depth_Large_Average_Ocean mod04 (16-bit integer)\n",
      "[2x203x135] Mass_Concentration_Ocean mod04 (32-bit floating-point)\n",
      "[203x135] Aerosol_Cloud_Fraction_Ocean mod04 (16-bit integer)\n",
      "[2x203x135] Effective_Radius_Ocean mod04 (16-bit integer)\n",
      "[2x203x135] PSML003_Ocean mod04 (32-bit floating-point)\n",
      "[7x203x135] Asymmetry_Factor_Best_Ocean mod04 (16-bit integer)\n",
      "[7x203x135] Asymmetry_Factor_Average_Ocean mod04 (16-bit integer)\n",
      "[7x203x135] Backscattering_Ratio_Best_Ocean mod04 (16-bit integer)\n",
      "[7x203x135] Backscattering_Ratio_Average_Ocean mod04 (16-bit integer)\n",
      "[203x135] Angstrom_Exponent_1_Ocean mod04 (16-bit integer)\n",
      "[203x135] Angstrom_Exponent_2_Ocean mod04 (16-bit integer)\n",
      "[2x203x135] Least_Squares_Error_Ocean mod04 (16-bit integer)\n",
      "[203x135] Optical_Depth_Ratio_Small_Ocean_0.55micron mod04 (16-bit integer)\n",
      "[9x203x135] Optical_Depth_by_models_ocean mod04 (16-bit integer)\n",
      "[10x203x135] Number_Pixels_Used_Ocean mod04 (16-bit integer)\n",
      "[10x203x135] Mean_Reflectance_Ocean mod04 (16-bit integer)\n",
      "[10x203x135] STD_Reflectance_Ocean mod04 (16-bit integer)\n",
      "[203x135x5] Quality_Assurance_Ocean mod04 (8-bit integer)\n",
      "[203x135] Deep_Blue_Aerosol_Optical_Depth_550_Land mod04 (16-bit integer)\n",
      "[3x203x135] Deep_Blue_Spectral_Aerosol_Optical_Depth_Land mod04 (16-bit integer)\n",
      "[203x135] Deep_Blue_Angstrom_Exponent_Land mod04 (16-bit integer)\n",
      "[3x203x135] Deep_Blue_Spectral_Single_Scattering_Albedo_Land mod04 (16-bit integer)\n",
      "[3x203x135] Deep_Blue_Spectral_Surface_Reflectance_Land mod04 (16-bit integer)\n",
      "[3x203x135] Deep_Blue_Spectral_TOA_Reflectance_Land mod04 (16-bit integer)\n",
      "[203x135] Deep_Blue_Number_Pixels_Used_550_Land mod04 (16-bit integer)\n",
      "[203x135] Deep_Blue_Aerosol_Optical_Depth_550_Land_STD mod04 (16-bit integer)\n",
      "[203x135] Deep_Blue_Cloud_Fraction_Land mod04 (16-bit integer)\n",
      "[203x135] Deep_Blue_Aerosol_Optical_Depth_550_Land_QA_Flag mod04 (16-bit integer)\n",
      "[203x135] Deep_Blue_Algorithm_Flag_Land mod04 (16-bit integer)\n",
      "[203x135] Deep_Blue_Aerosol_Optical_Depth_550_Land_Best_Estimate mod04 (16-bit integer)\n",
      "[203x135] Deep_Blue_Aerosol_Optical_Depth_550_Land_Estimated_Uncertainty mod04 (16-bit integer)\n",
      "[203x135] AOD_550_Dark_Target_Deep_Blue_Combined mod04 (16-bit integer)\n",
      "[203x135] AOD_550_Dark_Target_Deep_Blue_Combined_QA_Flag mod04 (16-bit integer)\n",
      "[203x135] AOD_550_Dark_Target_Deep_Blue_Combined_Algorithm_Flag mod04 (16-bit integer)\n",
      "[203x135] Glint_Angle mod04 (16-bit integer)\n",
      "[203x135] Wind_Speed_Ncep_Ocean mod04 (16-bit integer)\n",
      "[203x135] Topographic_Altitude_Land mod04 (16-bit integer)\n",
      "[203x135] Effective_Optical_Depth_0p55um_Ocean mod04 (16-bit integer)\n",
      "[203x135] Longitude (32-bit floating-point)\n",
      "[203x135] Latitude (32-bit floating-point)\n",
      "[203x135] Scan_Start_Time (64-bit floating-point)\n",
      "[203x135] Solar_Zenith (16-bit integer)\n",
      "[203x135] Solar_Azimuth (16-bit integer)\n",
      "[203x135] Sensor_Zenith (16-bit integer)\n",
      "[203x135] Sensor_Azimuth (16-bit integer)\n",
      "[203x135] Scattering_Angle (16-bit integer)\n",
      "[203x135] Land_sea_Flag (16-bit integer)\n",
      "[4060x2708] Aerosol_Cldmask_Land_Ocean (16-bit integer)\n",
      "[4060x2708] Cloud_Pixel_Distance_Land_Ocean (16-bit integer)\n",
      "[203x135] Land_Ocean_Quality_Flag (16-bit integer)\n",
      "[203x135] Optical_Depth_Land_And_Ocean (16-bit integer)\n",
      "[203x135] Image_Optical_Depth_Land_And_Ocean (16-bit integer)\n",
      "[203x135] Average_Cloud_Pixel_Distance_Land_Ocean (16-bit integer)\n",
      "[203x135] Aerosol_Type_Land (16-bit integer)\n",
      "[203x135] Fitting_Error_Land (16-bit integer)\n",
      "[3x203x135] Surface_Reflectance_Land (16-bit integer)\n",
      "[3x203x135] Corrected_Optical_Depth_Land (16-bit integer)\n",
      "[203x135] Corrected_Optical_Depth_Land_wav2p1 (16-bit integer)\n",
      "[203x135] Optical_Depth_Ratio_Small_Land (16-bit integer)\n",
      "[10x203x135] Number_Pixels_Used_Land (16-bit integer)\n",
      "[10x203x135] Mean_Reflectance_Land (16-bit integer)\n",
      "[10x203x135] STD_Reflectance_Land (16-bit integer)\n",
      "[203x135] Mass_Concentration_Land (32-bit floating-point)\n",
      "[203x135] Aerosol_Cloud_Fraction_Land (16-bit integer)\n",
      "[203x135x6] Quality_Assurance_Land (8-bit integer)\n",
      "[2x203x135] Solution_Index_Ocean_Small (16-bit integer)\n",
      "[2x203x135] Solution_Index_Ocean_Large (16-bit integer)\n",
      "[7x203x135] Effective_Optical_Depth_Best_Ocean (16-bit integer)\n",
      "[7x203x135] Effective_Optical_Depth_Average_Ocean (16-bit integer)\n",
      "[7x203x135] Optical_Depth_Small_Best_Ocean (16-bit integer)\n",
      "[7x203x135] Optical_Depth_Small_Average_Ocean (16-bit integer)\n",
      "[7x203x135] Optical_Depth_Large_Best_Ocean (16-bit integer)\n",
      "[7x203x135] Optical_Depth_Large_Average_Ocean (16-bit integer)\n",
      "[2x203x135] Mass_Concentration_Ocean (32-bit floating-point)\n",
      "[203x135] Aerosol_Cloud_Fraction_Ocean (16-bit integer)\n",
      "[2x203x135] Effective_Radius_Ocean (16-bit integer)\n",
      "[2x203x135] PSML003_Ocean (32-bit floating-point)\n",
      "[7x203x135] Asymmetry_Factor_Best_Ocean (16-bit integer)\n",
      "[7x203x135] Asymmetry_Factor_Average_Ocean (16-bit integer)\n",
      "[7x203x135] Backscattering_Ratio_Best_Ocean (16-bit integer)\n",
      "[7x203x135] Backscattering_Ratio_Average_Ocean (16-bit integer)\n",
      "[203x135] Angstrom_Exponent_1_Ocean (16-bit integer)\n",
      "[203x135] Angstrom_Exponent_2_Ocean (16-bit integer)\n",
      "[2x203x135] Least_Squares_Error_Ocean (16-bit integer)\n",
      "[203x135] Optical_Depth_Ratio_Small_Ocean_0.55micron (16-bit integer)\n",
      "[9x203x135] Optical_Depth_by_models_ocean (16-bit integer)\n",
      "[10x203x135] Number_Pixels_Used_Ocean (16-bit integer)\n",
      "[10x203x135] Mean_Reflectance_Ocean (16-bit integer)\n",
      "[10x203x135] STD_Reflectance_Ocean (16-bit integer)\n",
      "[203x135x5] Quality_Assurance_Ocean (8-bit integer)\n",
      "[203x135] Deep_Blue_Aerosol_Optical_Depth_550_Land (16-bit integer)\n",
      "[3x203x135] Deep_Blue_Spectral_Aerosol_Optical_Depth_Land (16-bit integer)\n",
      "[203x135] Deep_Blue_Angstrom_Exponent_Land (16-bit integer)\n",
      "[3x203x135] Deep_Blue_Spectral_Single_Scattering_Albedo_Land (16-bit integer)\n",
      "[3x203x135] Deep_Blue_Spectral_Surface_Reflectance_Land (16-bit integer)\n",
      "[3x203x135] Deep_Blue_Spectral_TOA_Reflectance_Land (16-bit integer)\n",
      "[203x135] Deep_Blue_Number_Pixels_Used_550_Land (16-bit integer)\n",
      "[203x135] Deep_Blue_Aerosol_Optical_Depth_550_Land_STD (16-bit integer)\n",
      "[203x135] Deep_Blue_Cloud_Fraction_Land (16-bit integer)\n",
      "[203x135] Deep_Blue_Aerosol_Optical_Depth_550_Land_QA_Flag (16-bit integer)\n",
      "[203x135] Deep_Blue_Algorithm_Flag_Land (16-bit integer)\n",
      "[203x135] Deep_Blue_Aerosol_Optical_Depth_550_Land_Best_Estimate (16-bit integer)\n",
      "[203x135] Deep_Blue_Aerosol_Optical_Depth_550_Land_Estimated_Uncertainty (16-bit integer)\n",
      "[203x135] AOD_550_Dark_Target_Deep_Blue_Combined (16-bit integer)\n",
      "[203x135] AOD_550_Dark_Target_Deep_Blue_Combined_QA_Flag (16-bit integer)\n",
      "[203x135] AOD_550_Dark_Target_Deep_Blue_Combined_Algorithm_Flag (16-bit integer)\n",
      "[203x135] Glint_Angle (16-bit integer)\n",
      "[203x135] Wind_Speed_Ncep_Ocean (16-bit integer)\n",
      "[203x135] Topographic_Altitude_Land (16-bit integer)\n",
      "[203x135] Effective_Optical_Depth_0p55um_Ocean (16-bit integer)\n"
     ]
    }
   ],
   "source": [
    "#Lists all subdatasets of any one file\n",
    "file = gdal.Open('AOD_Nepal_china/MOD04_L2.A2022163.0125.061.2022163134820.hdf')\n",
    "#\n",
    "print(file)\n",
    "#file = gdal.Open('/Users/nimishmishra/Downloads/Kanpur MODIS Data/November/2018.11.18.hdf')\n",
    "for path, desc in file.GetSubDatasets():\n",
    "    print(desc)"
   ],
   "metadata": {
    "collapsed": false,
    "pycharm": {
     "name": "#%%\n"
    }
   }
  },
  {
   "cell_type": "code",
   "execution_count": 3,
   "outputs": [],
   "source": [
    "# Opens the HDF file\n",
    "def load_data(FILEPATH):\n",
    "    ds = gdal.Open(FILEPATH)\n",
    "    return ds"
   ],
   "metadata": {
    "collapsed": false,
    "pycharm": {
     "name": "#%%\n"
    }
   }
  },
  {
   "cell_type": "code",
   "execution_count": 4,
   "outputs": [],
   "source": [
    "# Opens the data HDF file and returns as a dataframe\n",
    "def read_dataset(SUBDATASET_NAME, FILEPATH):\n",
    "    dataset = load_data(FILEPATH)\n",
    "    path = ''\n",
    "    for sub, description in dataset.GetSubDatasets():\n",
    "        if (description.endswith(SUBDATASET_NAME)):\n",
    "            path = sub\n",
    "            break\n",
    "    if(path == ''):\n",
    "        print(SUBDATASET_NAME + ' not found')\n",
    "        return\n",
    "    subdataset = gdal.Open(path)\n",
    "    subdataset = subdataset.ReadAsArray()\n",
    "    subdataset = pd.DataFrame(subdataset)\n",
    "    return subdataset"
   ],
   "metadata": {
    "collapsed": false,
    "pycharm": {
     "name": "#%%\n"
    }
   }
  },
  {
   "cell_type": "code",
   "execution_count": 5,
   "outputs": [],
   "source": [
    "# Loads the HDF file, gets the Latitude subdataset and returns the information of the nearest pixel to specified position\n",
    "def find_latitude_position(CITY_LATITUDE, FILEPATH):\n",
    "    dataset_to_load = 'Latitude (32-bit floating-point)'\n",
    "    latitude_dataframe = read_dataset(dataset_to_load, FILEPATH)\n",
    "    min_diff = 100\n",
    "    row_number = -1\n",
    "    column_number = -1\n",
    "    rows = latitude_dataframe.shape[0]\n",
    "    columns = latitude_dataframe.shape[1]\n",
    "    for i in range(rows):\n",
    "        for j in range(columns):\n",
    "            lat = latitude_dataframe.iloc[i][j]\n",
    "            diff = np.abs(lat - CITY_LATITUDE)\n",
    "            if(diff < min_diff):\n",
    "                min_diff = diff\n",
    "                row_number = i\n",
    "                column_number = j\n",
    "                found_lat = lat\n",
    "    if(row_number == -1 or column_number == -1):\n",
    "        print(\"Latitude not found. You might have chosen wrong scene\")\n",
    "    return latitude_dataframe, row_number, column_number\n"
   ],
   "metadata": {
    "collapsed": false,
    "pycharm": {
     "name": "#%%\n"
    }
   }
  },
  {
   "cell_type": "code",
   "execution_count": 6,
   "outputs": [],
   "source": [
    "# Loads the HDF file, gets the Longitude subdataset and returns the information of the nearest pixel to specified position\n",
    "def find_longitude_position(CITY_LONGITUDE, LATITUDE_ROW_NUMBER, FILEPATH):\n",
    "    dataset_to_load = 'Longitude (32-bit floating-point)'\n",
    "    longitude_dataframe = read_dataset(dataset_to_load, FILEPATH)\n",
    "    min_diff = 100\n",
    "    row_number = -1\n",
    "    column_number = -1\n",
    "    rows = longitude_dataframe.shape[0]\n",
    "    columns = longitude_dataframe.shape[1]\n",
    "    for j in range(columns):\n",
    "        lon = longitude_dataframe.iloc[LATITUDE_ROW_NUMBER][j]\n",
    "        diff = np.abs(lon - CITY_LONGITUDE)\n",
    "        if(diff < min_diff):\n",
    "            min_diff = diff\n",
    "            row_number = LATITUDE_ROW_NUMBER\n",
    "            column_number = j\n",
    "            found_lon = lon\n",
    "    if(column_number == -1):\n",
    "        print(\"Longitude not found. You might have chosen wrong scene\")\n",
    "    return longitude_dataframe, column_number"
   ],
   "metadata": {
    "collapsed": false,
    "pycharm": {
     "name": "#%%\n"
    }
   }
  },
  {
   "cell_type": "code",
   "execution_count": 7,
   "outputs": [],
   "source": [
    "def find_product_value(LATITUDE_ROW_NUMBER, LONGITUDE_COLUMN_NUMBER, SUBDATASET, FILEPATH):\n",
    "    dataset = read_dataset(SUBDATASET, FILEPATH)\n",
    "    if(LATITUDE_ROW_NUMBER < 0 or LONGITUDE_COLUMN_NUMBER < 0):\n",
    "        return -1\n",
    "    return dataset.iloc[LATITUDE_ROW_NUMBER][LONGITUDE_COLUMN_NUMBER]"
   ],
   "metadata": {
    "collapsed": false,
    "pycharm": {
     "name": "#%%\n"
    }
   }
  },
  {
   "cell_type": "code",
   "execution_count": 8,
   "outputs": [],
   "source": [
    "# Creates a list of values of the product under observation across all datasets\n",
    "def create_list(PRODUCT, CITY_LATITUDE, CITY_LONGITUDE, FILEPATH):\n",
    "    latitude_dataframe, lat_row, lat_column = find_latitude_position(CITY_LATITUDE, FILEPATH)\n",
    "    if lat_row == -1:\n",
    "        return -1\n",
    "    longitude_dataframe, lon_column = find_longitude_position(CITY_LONGITUDE, lat_row, FILEPATH)\n",
    "    city_row_number = lat_row\n",
    "    city_column_number = lon_column\n",
    "    if(PRODUCT == 'AOD'):\n",
    "        subdataset = 'Deep_Blue_Aerosol_Optical_Depth_550_Land mod04 (16-bit integer)'\n",
    "    elif(PRODUCT == 'Scattering Angle'):\n",
    "        subdataset = 'Scattering_Angle mod04 (16-bit integer)'\n",
    "    elif(PRODUCT == 'Cloud Fraction'):\n",
    "        subdataset = 'Deep_Blue_Cloud_Fraction_Land (16-bit integer)'\n",
    "    elif(PRODUCT == 'Combined'):\n",
    "        subdataset = 'AOD_550_Dark_Target_Deep_Blue_Combined (16-bit integer)'\n",
    "    elif(PRODUCT == 'Angstrom Exponent'):\n",
    "        subdataset = 'Deep_Blue_Angstrom_Exponent_Land (16-bit integer)'\n",
    "    row_begin = city_row_number - 1\n",
    "    row_end = city_row_number + 1\n",
    "    column_begin = city_column_number - 1\n",
    "    column_end = city_column_number + 1\n",
    "    total = 0\n",
    "    for i in range(row_begin, row_end, 1):\n",
    "        for j in range(column_begin, column_end, 1):\n",
    "            pixel_value = find_product_value(i, j, subdataset, FILEPATH)\n",
    "            if(pixel_value == -9999):\n",
    "                pixel_value = 0\n",
    "            total = total + pixel_value\n",
    "    product_value = total / 9\n",
    "    return product_value, latitude_dataframe.iloc[lat_row][lat_column], longitude_dataframe.iloc[lat_row][lon_column]"
   ],
   "metadata": {
    "collapsed": false,
    "pycharm": {
     "name": "#%%\n"
    }
   }
  },
  {
   "cell_type": "code",
   "execution_count": 9,
   "outputs": [
    {
     "name": "stdout",
     "output_type": "stream",
     "text": [
      "AOD_Nepal_china\\MOD04_L2.A2022163.0125.061.2022163134820.hdf\n",
      "Data collected for: 48.680912 N (27.260000 N for Kanpur) and 125.769684 E.(88.800000 for Kanpur)\n",
      "AOD_Nepal_china\\MOD04_L2.A2022163.0130.061.2022163134822.hdf\n",
      "Data collected for: 31.845228 N (27.260000 N for Kanpur) and 124.0733 E.(88.800000 for Kanpur)\n",
      "AOD_Nepal_china\\MOD04_L2.A2022163.0135.061.2022163134741.hdf\n",
      "Data collected for: 27.259996 N (27.260000 N for Kanpur) and 123.0712 E.(88.800000 for Kanpur)\n",
      "AOD_Nepal_china\\MOD04_L2.A2022163.0305.061.2022163134847.hdf\n",
      "Data collected for: 45.004723 N (27.260000 N for Kanpur) and 100.8082 E.(88.800000 for Kanpur)\n",
      "AOD_Nepal_china\\MOD04_L2.A2022163.0310.061.2022163134827.hdf\n",
      "Data collected for: 27.961449 N (27.260000 N for Kanpur) and 98.93048 E.(88.800000 for Kanpur)\n",
      "AOD_Nepal_china\\MOD04_L2.A2022163.0315.061.2022163134714.hdf\n",
      "Data collected for: 27.259998 N (27.260000 N for Kanpur) and 98.39059 E.(88.800000 for Kanpur)\n",
      "AOD_Nepal_china\\MOD04_L2.A2022163.0320.061.2022163134755.hdf\n",
      "Data collected for: 13.24033 N (27.260000 N for Kanpur) and 96.025154 E.(88.800000 for Kanpur)\n",
      "AOD_Nepal_china\\MOD04_L2.A2022163.0445.061.2022163134904.hdf\n",
      "Data collected for: 41.266273 N (27.260000 N for Kanpur) and 88.7395 E.(88.800000 for Kanpur)\n",
      "AOD_Nepal_china\\MOD04_L2.A2022163.0450.061.2022163134827.hdf\n",
      "Data collected for: 27.26029 N (27.260000 N for Kanpur) and 88.80416 E.(88.800000 for Kanpur)\n",
      "AOD_Nepal_china\\MOD04_L2.A2022163.0455.061.2022163134758.hdf\n",
      "Data collected for: 27.164173 N (27.260000 N for Kanpur) and 88.86322 E.(88.800000 for Kanpur)\n",
      "AOD_Nepal_china\\MOD04_L2.A2022163.0500.061.2022163134646.hdf\n",
      "Data collected for: 9.227151 N (27.260000 N for Kanpur) and 88.885025 E.(88.800000 for Kanpur)\n",
      "AOD_Nepal_china\\MOD04_L2.A2022163.0625.061.2022163195540.hdf\n",
      "Data collected for: 37.484512 N (27.260000 N for Kanpur) and 76.54819 E.(88.800000 for Kanpur)\n",
      "AOD_Nepal_china\\MOD04_L2.A2022163.0630.061.2022163195819.hdf\n",
      "Data collected for: 27.259586 N (27.260000 N for Kanpur) and 71.44696 E.(88.800000 for Kanpur)\n",
      "AOD_Nepal_china\\MOD04_L2.A2022163.0635.061.2022163195541.hdf\n",
      "Data collected for: 23.14338 N (27.260000 N for Kanpur) and 69.84001 E.(88.800000 for Kanpur)\n",
      "AOD_Nepal_china\\MOD04_L2.A2022163.0800.061.2022163195617.hdf\n",
      "Data collected for: 50.3571 N (27.260000 N for Kanpur) and 60.204994 E.(88.800000 for Kanpur)\n",
      "AOD_Nepal_china\\MOD04_L2.A2022163.1240.061.2022164015906.hdf\n",
      "Data collected for: 56.60565 N (27.260000 N for Kanpur) and 111.15322 E.(88.800000 for Kanpur)\n",
      "AOD_Nepal_china\\MOD04_L2.A2022163.1420.061.2022164015849.hdf\n",
      "Data collected for: 56.63252 N (27.260000 N for Kanpur) and 88.5932 E.(88.800000 for Kanpur)\n",
      "AOD_Nepal_china\\MOD04_L2.A2022163.1600.061.2022164015856.hdf\n",
      "Data collected for: 56.59182 N (27.260000 N for Kanpur) and 88.93997 E.(88.800000 for Kanpur)\n"
     ]
    }
   ],
   "source": [
    "import glob\n",
    "# Defining lists that we want\n",
    "scattering_angle = []\n",
    "deep_blue_AOD_Land = []\n",
    "cloud_fraction = []\n",
    "file_names = []\n",
    "latitude = []\n",
    "longitude = []\n",
    "combined_AOD = []\n",
    "angstrom_exponent = []\n",
    "directory = 'AOD_Nepal_china' # Put here the month directory from which to extract files\n",
    "\n",
    "long_N = 88.8\n",
    "lat_n = 27.26\n",
    "\n",
    "for file in glob.glob(directory + '/*.hdf'):\n",
    "    FILEPATH = file\n",
    "    print(FILEPATH)\n",
    "    try:\n",
    "        scattering_angle_value, lat, lon = create_list('Scattering Angle',  lat_n,long_N, FILEPATH)\n",
    "        deep_blue_AOD_Land_value, lat, lon = create_list('AOD', lat_n,long_N, FILEPATH)\n",
    "        cloud_fraction_value, lat, lon = create_list('Cloud Fraction', lat_n,long_N, FILEPATH)\n",
    "        combined_AOD_value, lat, lon = create_list('Combined', lat_n,long_N, FILEPATH)\n",
    "        angstrom_exponent_value, lat, lon = create_list('Angstrom Exponent', lat_n,long_N, FILEPATH)\n",
    "        print(\"Data collected for: \" + str(lat) + \" N (%f N for Nepal) and \"%lat_n + str(lon) + \" E.(%f for Nepal)\"%long_N)\n",
    "        file_names.append(file)\n",
    "        scattering_angle.append(scattering_angle_value)\n",
    "        deep_blue_AOD_Land.append(deep_blue_AOD_Land_value)\n",
    "        latitude.append(lat)\n",
    "        longitude.append(lon)\n",
    "        cloud_fraction.append(cloud_fraction_value)\n",
    "        combined_AOD.append(combined_AOD_value)\n",
    "        angstrom_exponent.append(angstrom_exponent_value)\n",
    "    except:\n",
    "        pass\n",
    "\n",
    "final_list = pd.DataFrame()\n",
    "final_list['File Name'] = pd.Series(file_names)\n",
    "final_list['Scattering_angle'] = pd.Series(scattering_angle)\n",
    "final_list['Deep Blue AOD'] = pd.Series(deep_blue_AOD_Land)\n",
    "final_list['Cloud Fraction'] = pd.Series(cloud_fraction)\n",
    "final_list['Combined AOD'] = pd.Series(combined_AOD)\n",
    "final_list['Angstrom Exponent'] = pd.Series(angstrom_exponent)\n",
    "final_list['Latitude'] = pd.Series(latitude)\n",
    "final_list['Longitude'] = pd.Series(longitude)\n",
    "path = 'AOD_Nepal_china/2013_2023_PM.csv'\n",
    "final_list.to_csv(path)"
   ],
   "metadata": {
    "collapsed": false,
    "pycharm": {
     "name": "#%%\n"
    }
   }
  },
  {
   "cell_type": "code",
   "execution_count": 10,
   "outputs": [],
   "source": [
    "def plot(x_axis, y_axis_1, y_axis_2, label1, label2, directory, month):\n",
    "    figure = plt.figure()\n",
    "    ax = sns.lineplot(x=date, y=y_axis_1)\n",
    "    ax = sns.lineplot(x=x_axis, y=y_axis_2)\n",
    "    figure.legend(labels = [label1, label2])\n",
    "    plt.show()\n",
    "    path = (directory + month + '/') + month + label1 + label2 + '.png'\n",
    "    fig = ax.get_figure()\n",
    "    fig.savefig(path)"
   ],
   "metadata": {
    "collapsed": false,
    "pycharm": {
     "name": "#%%\n"
    }
   }
  },
  {
   "cell_type": "code",
   "execution_count": 11,
   "outputs": [
    {
     "data": {
      "text/plain": "                                            File Name  Scattering_angle  \\\n0   AOD_Nepal_china\\MOD04_L2.A2022163.0125.061.202...       3114.111111   \n1   AOD_Nepal_china\\MOD04_L2.A2022163.0130.061.202...       3209.444444   \n2   AOD_Nepal_china\\MOD04_L2.A2022163.0135.061.202...       3216.333333   \n3   AOD_Nepal_china\\MOD04_L2.A2022163.0305.061.202...       3144.111111   \n4   AOD_Nepal_china\\MOD04_L2.A2022163.0310.061.202...       3215.777778   \n5   AOD_Nepal_china\\MOD04_L2.A2022163.0315.061.202...       3216.222222   \n6   AOD_Nepal_china\\MOD04_L2.A2022163.0320.061.202...       1584.777778   \n7   AOD_Nepal_china\\MOD04_L2.A2022163.0445.061.202...       7174.000000   \n8   AOD_Nepal_china\\MOD04_L2.A2022163.0450.061.202...       6009.333333   \n9   AOD_Nepal_china\\MOD04_L2.A2022163.0455.061.202...       2931.333333   \n10  AOD_Nepal_china\\MOD04_L2.A2022163.0500.061.202...       2428.666667   \n11  AOD_Nepal_china\\MOD04_L2.A2022163.0625.061.202...       4712.222222   \n12  AOD_Nepal_china\\MOD04_L2.A2022163.0630.061.202...       4745.222222   \n13  AOD_Nepal_china\\MOD04_L2.A2022163.0635.061.202...       2368.222222   \n14  AOD_Nepal_china\\MOD04_L2.A2022163.0800.061.202...       4593.000000   \n15  AOD_Nepal_china\\MOD04_L2.A2022163.1240.061.202...       1652.888889   \n16  AOD_Nepal_china\\MOD04_L2.A2022163.1420.061.202...       1668.555556   \n17  AOD_Nepal_china\\MOD04_L2.A2022163.1600.061.202...       2246.222222   \n\n    Deep Blue AOD  Cloud Fraction  Combined AOD  Angstrom Exponent   Latitude  \\\n0       31.333333       25.333333     -0.222222         333.111111  48.680912   \n1       -0.222222      222.000000     -0.222222          -0.222222  31.845228   \n2       -0.222222      222.000000     -0.222222          -0.222222  27.259996   \n3        4.111111       -0.222222     -0.222222         333.111111  45.004723   \n4       -0.222222      222.000000     -0.222222          -0.222222  27.961449   \n5       -0.222222      222.000000     -0.222222          -0.222222  27.259998   \n6       -0.333333      110.777778     -0.333333          -0.333333  13.240330   \n7       58.555556      153.333333     18.444444         333.333333  41.266273   \n8        0.000000      444.444444      0.000000           0.000000  27.260290   \n9       -0.222222      222.000000     -0.222222          -0.222222  27.164173   \n10      -0.222222      222.000000     -0.222222          -0.222222   9.227151   \n11       0.000000      444.444444      0.000000           0.000000  37.484512   \n12      77.000000      337.777778      0.000000         189.111111  27.259586   \n13      -0.222222      222.000000     -0.222222          -0.222222  23.143379   \n14      66.333333      408.888889      0.000000           0.000000  50.357101   \n15       0.000000      444.444444      0.000000           0.000000  56.605652   \n16       0.000000      444.444444      0.000000           0.000000  56.632519   \n17       0.000000      444.444444      0.000000           0.000000  56.591820   \n\n     Longitude  \n0   125.769684  \n1   124.073303  \n2   123.071198  \n3   100.808197  \n4    98.930481  \n5    98.390587  \n6    96.025154  \n7    88.739502  \n8    88.804161  \n9    88.863220  \n10   88.885025  \n11   76.548187  \n12   71.446960  \n13   69.840012  \n14   60.204994  \n15  111.153221  \n16   88.593201  \n17   88.939972  ",
      "text/html": "<div>\n<style scoped>\n    .dataframe tbody tr th:only-of-type {\n        vertical-align: middle;\n    }\n\n    .dataframe tbody tr th {\n        vertical-align: top;\n    }\n\n    .dataframe thead th {\n        text-align: right;\n    }\n</style>\n<table border=\"1\" class=\"dataframe\">\n  <thead>\n    <tr style=\"text-align: right;\">\n      <th></th>\n      <th>File Name</th>\n      <th>Scattering_angle</th>\n      <th>Deep Blue AOD</th>\n      <th>Cloud Fraction</th>\n      <th>Combined AOD</th>\n      <th>Angstrom Exponent</th>\n      <th>Latitude</th>\n      <th>Longitude</th>\n    </tr>\n  </thead>\n  <tbody>\n    <tr>\n      <th>0</th>\n      <td>AOD_Nepal_china\\MOD04_L2.A2022163.0125.061.202...</td>\n      <td>3114.111111</td>\n      <td>31.333333</td>\n      <td>25.333333</td>\n      <td>-0.222222</td>\n      <td>333.111111</td>\n      <td>48.680912</td>\n      <td>125.769684</td>\n    </tr>\n    <tr>\n      <th>1</th>\n      <td>AOD_Nepal_china\\MOD04_L2.A2022163.0130.061.202...</td>\n      <td>3209.444444</td>\n      <td>-0.222222</td>\n      <td>222.000000</td>\n      <td>-0.222222</td>\n      <td>-0.222222</td>\n      <td>31.845228</td>\n      <td>124.073303</td>\n    </tr>\n    <tr>\n      <th>2</th>\n      <td>AOD_Nepal_china\\MOD04_L2.A2022163.0135.061.202...</td>\n      <td>3216.333333</td>\n      <td>-0.222222</td>\n      <td>222.000000</td>\n      <td>-0.222222</td>\n      <td>-0.222222</td>\n      <td>27.259996</td>\n      <td>123.071198</td>\n    </tr>\n    <tr>\n      <th>3</th>\n      <td>AOD_Nepal_china\\MOD04_L2.A2022163.0305.061.202...</td>\n      <td>3144.111111</td>\n      <td>4.111111</td>\n      <td>-0.222222</td>\n      <td>-0.222222</td>\n      <td>333.111111</td>\n      <td>45.004723</td>\n      <td>100.808197</td>\n    </tr>\n    <tr>\n      <th>4</th>\n      <td>AOD_Nepal_china\\MOD04_L2.A2022163.0310.061.202...</td>\n      <td>3215.777778</td>\n      <td>-0.222222</td>\n      <td>222.000000</td>\n      <td>-0.222222</td>\n      <td>-0.222222</td>\n      <td>27.961449</td>\n      <td>98.930481</td>\n    </tr>\n    <tr>\n      <th>5</th>\n      <td>AOD_Nepal_china\\MOD04_L2.A2022163.0315.061.202...</td>\n      <td>3216.222222</td>\n      <td>-0.222222</td>\n      <td>222.000000</td>\n      <td>-0.222222</td>\n      <td>-0.222222</td>\n      <td>27.259998</td>\n      <td>98.390587</td>\n    </tr>\n    <tr>\n      <th>6</th>\n      <td>AOD_Nepal_china\\MOD04_L2.A2022163.0320.061.202...</td>\n      <td>1584.777778</td>\n      <td>-0.333333</td>\n      <td>110.777778</td>\n      <td>-0.333333</td>\n      <td>-0.333333</td>\n      <td>13.240330</td>\n      <td>96.025154</td>\n    </tr>\n    <tr>\n      <th>7</th>\n      <td>AOD_Nepal_china\\MOD04_L2.A2022163.0445.061.202...</td>\n      <td>7174.000000</td>\n      <td>58.555556</td>\n      <td>153.333333</td>\n      <td>18.444444</td>\n      <td>333.333333</td>\n      <td>41.266273</td>\n      <td>88.739502</td>\n    </tr>\n    <tr>\n      <th>8</th>\n      <td>AOD_Nepal_china\\MOD04_L2.A2022163.0450.061.202...</td>\n      <td>6009.333333</td>\n      <td>0.000000</td>\n      <td>444.444444</td>\n      <td>0.000000</td>\n      <td>0.000000</td>\n      <td>27.260290</td>\n      <td>88.804161</td>\n    </tr>\n    <tr>\n      <th>9</th>\n      <td>AOD_Nepal_china\\MOD04_L2.A2022163.0455.061.202...</td>\n      <td>2931.333333</td>\n      <td>-0.222222</td>\n      <td>222.000000</td>\n      <td>-0.222222</td>\n      <td>-0.222222</td>\n      <td>27.164173</td>\n      <td>88.863220</td>\n    </tr>\n    <tr>\n      <th>10</th>\n      <td>AOD_Nepal_china\\MOD04_L2.A2022163.0500.061.202...</td>\n      <td>2428.666667</td>\n      <td>-0.222222</td>\n      <td>222.000000</td>\n      <td>-0.222222</td>\n      <td>-0.222222</td>\n      <td>9.227151</td>\n      <td>88.885025</td>\n    </tr>\n    <tr>\n      <th>11</th>\n      <td>AOD_Nepal_china\\MOD04_L2.A2022163.0625.061.202...</td>\n      <td>4712.222222</td>\n      <td>0.000000</td>\n      <td>444.444444</td>\n      <td>0.000000</td>\n      <td>0.000000</td>\n      <td>37.484512</td>\n      <td>76.548187</td>\n    </tr>\n    <tr>\n      <th>12</th>\n      <td>AOD_Nepal_china\\MOD04_L2.A2022163.0630.061.202...</td>\n      <td>4745.222222</td>\n      <td>77.000000</td>\n      <td>337.777778</td>\n      <td>0.000000</td>\n      <td>189.111111</td>\n      <td>27.259586</td>\n      <td>71.446960</td>\n    </tr>\n    <tr>\n      <th>13</th>\n      <td>AOD_Nepal_china\\MOD04_L2.A2022163.0635.061.202...</td>\n      <td>2368.222222</td>\n      <td>-0.222222</td>\n      <td>222.000000</td>\n      <td>-0.222222</td>\n      <td>-0.222222</td>\n      <td>23.143379</td>\n      <td>69.840012</td>\n    </tr>\n    <tr>\n      <th>14</th>\n      <td>AOD_Nepal_china\\MOD04_L2.A2022163.0800.061.202...</td>\n      <td>4593.000000</td>\n      <td>66.333333</td>\n      <td>408.888889</td>\n      <td>0.000000</td>\n      <td>0.000000</td>\n      <td>50.357101</td>\n      <td>60.204994</td>\n    </tr>\n    <tr>\n      <th>15</th>\n      <td>AOD_Nepal_china\\MOD04_L2.A2022163.1240.061.202...</td>\n      <td>1652.888889</td>\n      <td>0.000000</td>\n      <td>444.444444</td>\n      <td>0.000000</td>\n      <td>0.000000</td>\n      <td>56.605652</td>\n      <td>111.153221</td>\n    </tr>\n    <tr>\n      <th>16</th>\n      <td>AOD_Nepal_china\\MOD04_L2.A2022163.1420.061.202...</td>\n      <td>1668.555556</td>\n      <td>0.000000</td>\n      <td>444.444444</td>\n      <td>0.000000</td>\n      <td>0.000000</td>\n      <td>56.632519</td>\n      <td>88.593201</td>\n    </tr>\n    <tr>\n      <th>17</th>\n      <td>AOD_Nepal_china\\MOD04_L2.A2022163.1600.061.202...</td>\n      <td>2246.222222</td>\n      <td>0.000000</td>\n      <td>444.444444</td>\n      <td>0.000000</td>\n      <td>0.000000</td>\n      <td>56.591820</td>\n      <td>88.939972</td>\n    </tr>\n  </tbody>\n</table>\n</div>"
     },
     "execution_count": 11,
     "metadata": {},
     "output_type": "execute_result"
    }
   ],
   "source": [
    "final_list"
   ],
   "metadata": {
    "collapsed": false,
    "pycharm": {
     "name": "#%%\n"
    }
   }
  },
  {
   "cell_type": "code",
   "execution_count": null,
   "outputs": [],
   "source": [],
   "metadata": {
    "collapsed": false,
    "pycharm": {
     "name": "#%%\n"
    }
   }
  }
 ],
 "metadata": {
  "kernelspec": {
   "display_name": "Python 3",
   "language": "python",
   "name": "python3"
  },
  "language_info": {
   "codemirror_mode": {
    "name": "ipython",
    "version": 2
   },
   "file_extension": ".py",
   "mimetype": "text/x-python",
   "name": "python",
   "nbconvert_exporter": "python",
   "pygments_lexer": "ipython2",
   "version": "2.7.6"
  }
 },
 "nbformat": 4,
 "nbformat_minor": 0
}